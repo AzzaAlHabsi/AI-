{
  "nbformat": 4,
  "nbformat_minor": 0,
  "metadata": {
    "colab": {
      "provenance": []
    },
    "kernelspec": {
      "name": "python3",
      "display_name": "Python 3"
    },
    "language_info": {
      "name": "python"
    }
  },
  "cells": [
    {
      "cell_type": "markdown",
      "source": [
        "# ***CNN model ***"
      ],
      "metadata": {
        "id": "iNf7eLUQCqzG"
      }
    },
    {
      "cell_type": "code",
      "execution_count": 1,
      "metadata": {
        "colab": {
          "base_uri": "https://localhost:8080/"
        },
        "id": "_4rcTkvzb52k",
        "outputId": "a9f4fe83-bd7a-4e58-a89a-b8c5936158a0"
      },
      "outputs": [
        {
          "output_type": "stream",
          "name": "stdout",
          "text": [
            "Mounted at /content/drive\n"
          ]
        }
      ],
      "source": [
        "from google.colab import drive\n",
        "drive.mount('/content/drive', force_remount=True)"
      ]
    },
    {
      "cell_type": "code",
      "source": [
        "train_dir = '/content/drive/MyDrive/train'\n",
        "test_dir = '/content/drive/MyDrive/test'"
      ],
      "metadata": {
        "id": "BcESmnzacJX0"
      },
      "execution_count": 2,
      "outputs": []
    },
    {
      "cell_type": "code",
      "source": [
        "import os\n",
        "print(len(os.listdir('/content/drive/MyDrive/train/non_xray')))\n",
        "print(len(os.listdir('/content/drive/MyDrive/train/xray')))\n",
        "print(len(os.listdir('/content/drive/MyDrive/test/non_xray')))\n",
        "print(len(os.listdir('/content/drive/MyDrive/test/xray')))"
      ],
      "metadata": {
        "colab": {
          "base_uri": "https://localhost:8080/"
        },
        "id": "bueU_m_PcY4Y",
        "outputId": "92db60fc-c7b3-4a25-dcec-3f1d97741eb0"
      },
      "execution_count": 3,
      "outputs": [
        {
          "output_type": "stream",
          "name": "stdout",
          "text": [
            "621\n",
            "565\n",
            "551\n",
            "565\n"
          ]
        }
      ]
    },
    {
      "cell_type": "code",
      "source": [
        "import tensorflow as tf\n",
        "from tensorflow.keras.preprocessing.image import ImageDataGenerator\n",
        "\n",
        "\n",
        "train_datagen = ImageDataGenerator(\n",
        "    rescale=1./255,\n",
        "    validation_split=0.2\n",
        ")\n",
        "\n",
        "\n",
        "train_data = train_datagen.flow_from_directory(\n",
        "    train_dir,\n",
        "    target_size=(256,256),\n",
        "    batch_size=32,\n",
        "    class_mode='binary',\n",
        "    subset='training'\n",
        ")\n",
        "\n",
        "\n",
        "validation_datagen = ImageDataGenerator(\n",
        "    rescale=1./255,\n",
        "    validation_split=0.2\n",
        ")\n",
        "\n",
        "\n",
        "validation_data = validation_datagen.flow_from_directory(\n",
        "    train_dir,\n",
        "    target_size=(256,256),\n",
        "    batch_size=32,\n",
        "    class_mode='binary',\n",
        "    subset='validation'\n",
        ")"
      ],
      "metadata": {
        "colab": {
          "base_uri": "https://localhost:8080/"
        },
        "id": "YJjvUkQecfaS",
        "outputId": "e4cd95ad-2539-442b-b595-5b6a8e29fc71"
      },
      "execution_count": 4,
      "outputs": [
        {
          "output_type": "stream",
          "name": "stdout",
          "text": [
            "Found 949 images belonging to 2 classes.\n",
            "Found 236 images belonging to 2 classes.\n"
          ]
        }
      ]
    },
    {
      "cell_type": "code",
      "source": [
        "from tensorflow import keras\n",
        "from keras import Sequential\n",
        "from keras.layers import Dense,Conv2D,MaxPooling2D,Flatten,BatchNormalization,UpSampling2D, Dropout"
      ],
      "metadata": {
        "id": "g-aAa_x2coQb"
      },
      "execution_count": 5,
      "outputs": []
    },
    {
      "cell_type": "code",
      "source": [
        "\n",
        "\n",
        "model = Sequential()\n",
        "\n",
        "model.add(Conv2D(32,kernel_size=(3,3),padding='valid',activation='relu',input_shape=(256,256,3)))\n",
        "\n",
        "model.add(MaxPooling2D(pool_size=(2,2),strides=2,padding='valid'))\n",
        "\n",
        "model.add(Conv2D(64,kernel_size=(3,3),padding='valid',activation='relu'))\n",
        "\n",
        "model.add(MaxPooling2D(pool_size=(2,2),strides=2,padding='valid'))\n",
        "\n",
        "model.add(Conv2D(128,kernel_size=(3,3),padding='valid',activation='relu'))\n",
        "\n",
        "model.add(MaxPooling2D(pool_size=(2,2),strides=2,padding='valid'))\n",
        "\n",
        "model.add(Flatten())\n",
        "\n",
        "model.add(Dense(128,activation='relu'))\n",
        "\n",
        "model.add(Dense(64,activation='relu'))\n",
        "\n",
        "model.add(Dense(1,activation='sigmoid'))"
      ],
      "metadata": {
        "id": "YjRWmcnac1Vm"
      },
      "execution_count": 6,
      "outputs": []
    },
    {
      "cell_type": "code",
      "source": [
        "from keras.optimizers import Adam\n",
        "model.compile(optimizer=Adam(learning_rate=0.001),loss='binary_crossentropy',metrics=['accuracy'])"
      ],
      "metadata": {
        "id": "5EpnnNSjc6yk"
      },
      "execution_count": 7,
      "outputs": []
    },
    {
      "cell_type": "code",
      "source": [
        "history = model.fit(train_data, epochs=30, validation_data=validation_data)"
      ],
      "metadata": {
        "colab": {
          "base_uri": "https://localhost:8080/"
        },
        "id": "GyjlrfJVdBce",
        "outputId": "6dd93f49-bdc1-4cc3-bcb2-a3d2628f13ba"
      },
      "execution_count": 8,
      "outputs": [
        {
          "output_type": "stream",
          "name": "stdout",
          "text": [
            "Epoch 1/30\n",
            "30/30 [==============================] - 799s 27s/step - loss: 0.4440 - accuracy: 0.7808 - val_loss: 0.1193 - val_accuracy: 0.9576\n",
            "Epoch 2/30\n",
            "30/30 [==============================] - 145s 5s/step - loss: 0.0229 - accuracy: 0.9926 - val_loss: 0.2042 - val_accuracy: 0.9407\n",
            "Epoch 3/30\n",
            "30/30 [==============================] - 148s 5s/step - loss: 0.0208 - accuracy: 0.9916 - val_loss: 0.0972 - val_accuracy: 0.9746\n",
            "Epoch 4/30\n",
            "30/30 [==============================] - 146s 5s/step - loss: 0.0216 - accuracy: 0.9905 - val_loss: 0.0930 - val_accuracy: 0.9746\n",
            "Epoch 5/30\n",
            "30/30 [==============================] - 145s 5s/step - loss: 0.0030 - accuracy: 0.9989 - val_loss: 0.0633 - val_accuracy: 0.9831\n",
            "Epoch 6/30\n",
            "30/30 [==============================] - 147s 5s/step - loss: 0.0013 - accuracy: 1.0000 - val_loss: 0.0592 - val_accuracy: 0.9915\n",
            "Epoch 7/30\n",
            "30/30 [==============================] - 144s 5s/step - loss: 6.0022e-05 - accuracy: 1.0000 - val_loss: 0.0958 - val_accuracy: 0.9831\n",
            "Epoch 8/30\n",
            "30/30 [==============================] - 146s 5s/step - loss: 4.8303e-05 - accuracy: 1.0000 - val_loss: 0.0917 - val_accuracy: 0.9831\n",
            "Epoch 9/30\n",
            "30/30 [==============================] - 144s 5s/step - loss: 2.8161e-05 - accuracy: 1.0000 - val_loss: 0.0900 - val_accuracy: 0.9873\n",
            "Epoch 10/30\n",
            "30/30 [==============================] - 144s 5s/step - loss: 2.1884e-05 - accuracy: 1.0000 - val_loss: 0.0898 - val_accuracy: 0.9873\n",
            "Epoch 11/30\n",
            "30/30 [==============================] - 144s 5s/step - loss: 1.8541e-05 - accuracy: 1.0000 - val_loss: 0.0923 - val_accuracy: 0.9873\n",
            "Epoch 12/30\n",
            "30/30 [==============================] - 154s 5s/step - loss: 1.5732e-05 - accuracy: 1.0000 - val_loss: 0.0948 - val_accuracy: 0.9873\n",
            "Epoch 13/30\n",
            "30/30 [==============================] - 146s 5s/step - loss: 1.3719e-05 - accuracy: 1.0000 - val_loss: 0.0955 - val_accuracy: 0.9873\n",
            "Epoch 14/30\n",
            "30/30 [==============================] - 144s 5s/step - loss: 1.2451e-05 - accuracy: 1.0000 - val_loss: 0.0966 - val_accuracy: 0.9873\n",
            "Epoch 15/30\n",
            "30/30 [==============================] - 145s 5s/step - loss: 1.1252e-05 - accuracy: 1.0000 - val_loss: 0.0981 - val_accuracy: 0.9873\n",
            "Epoch 16/30\n",
            "30/30 [==============================] - 147s 5s/step - loss: 1.0238e-05 - accuracy: 1.0000 - val_loss: 0.0987 - val_accuracy: 0.9873\n",
            "Epoch 17/30\n",
            "30/30 [==============================] - 145s 5s/step - loss: 9.4851e-06 - accuracy: 1.0000 - val_loss: 0.1003 - val_accuracy: 0.9873\n",
            "Epoch 18/30\n",
            "30/30 [==============================] - 145s 5s/step - loss: 8.4285e-06 - accuracy: 1.0000 - val_loss: 0.1017 - val_accuracy: 0.9831\n",
            "Epoch 19/30\n",
            "30/30 [==============================] - 144s 5s/step - loss: 8.1043e-06 - accuracy: 1.0000 - val_loss: 0.1033 - val_accuracy: 0.9831\n",
            "Epoch 20/30\n",
            "30/30 [==============================] - 143s 5s/step - loss: 7.1707e-06 - accuracy: 1.0000 - val_loss: 0.1027 - val_accuracy: 0.9873\n",
            "Epoch 21/30\n",
            "30/30 [==============================] - 144s 5s/step - loss: 6.7780e-06 - accuracy: 1.0000 - val_loss: 0.1034 - val_accuracy: 0.9873\n",
            "Epoch 22/30\n",
            "30/30 [==============================] - 143s 5s/step - loss: 6.2566e-06 - accuracy: 1.0000 - val_loss: 0.1046 - val_accuracy: 0.9831\n",
            "Epoch 23/30\n",
            "30/30 [==============================] - 145s 5s/step - loss: 5.8595e-06 - accuracy: 1.0000 - val_loss: 0.1056 - val_accuracy: 0.9831\n",
            "Epoch 24/30\n",
            "30/30 [==============================] - 144s 5s/step - loss: 5.6055e-06 - accuracy: 1.0000 - val_loss: 0.1059 - val_accuracy: 0.9831\n",
            "Epoch 25/30\n",
            "30/30 [==============================] - 145s 5s/step - loss: 5.2960e-06 - accuracy: 1.0000 - val_loss: 0.1067 - val_accuracy: 0.9831\n",
            "Epoch 26/30\n",
            "30/30 [==============================] - 146s 5s/step - loss: 4.9948e-06 - accuracy: 1.0000 - val_loss: 0.1072 - val_accuracy: 0.9831\n",
            "Epoch 27/30\n",
            "30/30 [==============================] - 147s 5s/step - loss: 4.7449e-06 - accuracy: 1.0000 - val_loss: 0.1088 - val_accuracy: 0.9788\n",
            "Epoch 28/30\n",
            "30/30 [==============================] - 144s 5s/step - loss: 4.3073e-06 - accuracy: 1.0000 - val_loss: 0.1089 - val_accuracy: 0.9788\n",
            "Epoch 29/30\n",
            "30/30 [==============================] - 145s 5s/step - loss: 4.1939e-06 - accuracy: 1.0000 - val_loss: 0.1096 - val_accuracy: 0.9788\n",
            "Epoch 30/30\n",
            "30/30 [==============================] - 144s 5s/step - loss: 3.9187e-06 - accuracy: 1.0000 - val_loss: 0.1107 - val_accuracy: 0.9788\n"
          ]
        }
      ]
    },
    {
      "cell_type": "code",
      "source": [
        "import matplotlib.pyplot as plt\n",
        "\n",
        "plt.plot(history.history['accuracy'],color='red',label='train')\n",
        "plt.plot(history.history['val_accuracy'],color='blue',label='validation')\n",
        "plt.legend()\n",
        "plt.show()"
      ],
      "metadata": {
        "colab": {
          "base_uri": "https://localhost:8080/",
          "height": 430
        },
        "id": "PwdFcs3zdFpD",
        "outputId": "c7ab5823-b25f-42c9-d2cb-9c33c433b0a4"
      },
      "execution_count": 9,
      "outputs": [
        {
          "output_type": "display_data",
          "data": {
            "text/plain": [
              "<Figure size 640x480 with 1 Axes>"
            ],
            "image/png": "[encoded data removed]"
          },
          "metadata": {}
        }
      ]
    },
    {
      "cell_type": "code",
      "source": [
        "plt.plot(history.history['loss'],color='red',label='train')\n",
        "plt.plot(history.history['val_loss'],color='blue',label='validation')\n",
        "plt.legend()\n",
        "plt.show()"
      ],
      "metadata": {
        "colab": {
          "base_uri": "https://localhost:8080/",
          "height": 430
        },
        "id": "CVEGEmHAxTvY",
        "outputId": "1b8c55e1-6338-4f42-f53b-cc075a66cbe6"
      },
      "execution_count": 10,
      "outputs": [
        {
          "output_type": "display_data",
          "data": {
            "text/plain": [
              "<Figure size 640x480 with 1 Axes>"
            ],
            "image/png": "[encoded data removed]"
          },
          "metadata": {}
        }
      ]
    },
    {
      "cell_type": "code",
      "source": [
        "test_datagen = ImageDataGenerator(rescale=1./255)\n",
        "test_data = test_datagen.flow_from_directory(\n",
        "    test_dir,\n",
        "    target_size=(256,256),\n",
        "    batch_size=32,\n",
        "    class_mode='binary'\n",
        ")"
      ],
      "metadata": {
        "colab": {
          "base_uri": "https://localhost:8080/"
        },
        "id": "SNt6lO9pxayO",
        "outputId": "47c64671-3845-4ecc-9f38-f3e1f5cdcf75"
      },
      "execution_count": 11,
      "outputs": [
        {
          "output_type": "stream",
          "name": "stdout",
          "text": [
            "Found 1115 images belonging to 2 classes.\n"
          ]
        }
      ]
    },
    {
      "cell_type": "code",
      "source": [
        "\n",
        "predictions = model.predict(test_data)\n",
        "print(predictions)"
      ],
      "metadata": {
        "colab": {
          "base_uri": "https://localhost:8080/"
        },
        "id": "U1mHynDpxgGN",
        "outputId": "51b00e68-462e-4102-e4d6-158228325d28"
      },
      "execution_count": 12,
      "outputs": [
        {
          "output_type": "stream",
          "name": "stdout",
          "text": [
            "35/35 [==============================] - 311s 9s/step\n",
            "[[7.9926857e-20]\n",
            " [9.9999630e-01]\n",
            " [9.9998808e-01]\n",
            " ...\n",
            " [6.8532870e-30]\n",
            " [9.9999946e-01]\n",
            " [3.2499190e-09]]\n"
          ]
        }
      ]
    },
    {
      "cell_type": "code",
      "source": [
        "len(predictions)"
      ],
      "metadata": {
        "colab": {
          "base_uri": "https://localhost:8080/"
        },
        "id": "xWBNSm3mxl_8",
        "outputId": "dd0bed44-6c97-43d6-8f5c-370f0f325041"
      },
      "execution_count": 13,
      "outputs": [
        {
          "output_type": "execute_result",
          "data": {
            "text/plain": [
              "1115"
            ]
          },
          "metadata": {},
          "execution_count": 13
        }
      ]
    },
    {
      "cell_type": "code",
      "source": [
        "from sklearn.metrics import confusion_matrix, classification_report\n",
        "\n",
        "\n",
        "true_labels = test_data.classes\n",
        "predicted_labels = (predictions > 0.5).astype(int)\n",
        "\n",
        "\n",
        "cm = confusion_matrix(true_labels, predicted_labels)\n",
        "\n",
        "\n",
        "print(\"Confusion Matrix:\")\n",
        "print(cm)\n",
        "\n",
        "\n",
        "print(\"Classification Report:\")\n",
        "print(classification_report(true_labels, predicted_labels))"
      ],
      "metadata": {
        "colab": {
          "base_uri": "https://localhost:8080/"
        },
        "id": "QW8ighBXzCY2",
        "outputId": "2fc61a2b-e644-4e31-cc0a-39a2693a9572"
      },
      "execution_count": 14,
      "outputs": [
        {
          "output_type": "stream",
          "name": "stdout",
          "text": [
            "Confusion Matrix:\n",
            "[[270 281]\n",
            " [276 288]]\n",
            "Classification Report:\n",
            "              precision    recall  f1-score   support\n",
            "\n",
            "           0       0.49      0.49      0.49       551\n",
            "           1       0.51      0.51      0.51       564\n",
            "\n",
            "    accuracy                           0.50      1115\n",
            "   macro avg       0.50      0.50      0.50      1115\n",
            "weighted avg       0.50      0.50      0.50      1115\n",
            "\n"
          ]
        }
      ]
    },
    {
      "cell_type": "markdown",
      "source": [
        "# *Pre-trained CNN model*\n",
        "\n",
        "\n",
        "\n"
      ],
      "metadata": {
        "id": "7PzL285_CTSR"
      }
    },
    {
      "cell_type": "code",
      "source": [
        "from tensorflow import keras\n",
        "from keras import Sequential\n",
        "from keras.layers import Dense,Conv2D,MaxPooling2D,Flatten\n",
        "\n",
        "resnet_model = Sequential()    #ResNet50 is a pre-trained model\n",
        "pretrained_model = tf.keras.applications.ResNet50(include_top = False, #because i have my own image of a diff dimension\n",
        "                                                input_shape = (256,256,3),\n",
        "                                                pooling = 'max', classes = 2,\n",
        "                                                weights = 'imagenet')\n",
        "for layer in pretrained_model.layers:\n",
        "    layer.trainable = False  #all layers in the Resnet50 is not trainable; keep those weights; I am going to add my own i/p and other layers\n",
        "\n",
        "resnet_model.add(pretrained_model)\n",
        "resnet_model.add(Flatten())\n",
        "resnet_model.add(Dense(512, activation = 'relu'))\n",
        "resnet_model.add(Dense(1, activation = 'sigmoid'))"
      ],
      "metadata": {
        "colab": {
          "base_uri": "https://localhost:8080/"
        },
        "id": "9lkBD-Ir8YOV",
        "outputId": "bdc0f310-9af8-4550-e2f1-afb1557a0df4"
      },
      "execution_count": 15,
      "outputs": [
        {
          "output_type": "stream",
          "name": "stdout",
          "text": [
            "Downloading data from https://storage.googleapis.com/tensorflow/keras-applications/resnet/resnet50_weights_tf_dim_ordering_tf_kernels_notop.h5\n",
            "94765736/94765736 [==============================] - 4s 0us/step\n"
          ]
        }
      ]
    },
    {
      "cell_type": "code",
      "source": [
        "resnet_model.summary()"
      ],
      "metadata": {
        "colab": {
          "base_uri": "https://localhost:8080/"
        },
        "id": "z8J7V64V8jCQ",
        "outputId": "d846400b-ce6f-4463-8d33-00b18d064c3c"
      },
      "execution_count": 16,
      "outputs": [
        {
          "output_type": "stream",
          "name": "stdout",
          "text": [
            "Model: \"sequential_1\"\n",
            "_________________________________________________________________\n",
            " Layer (type)                Output Shape              Param #   \n",
            "=================================================================\n",
            " resnet50 (Functional)       (None, 2048)              23587712  \n",
            "                                                                 \n",
            " flatten_1 (Flatten)         (None, 2048)              0         \n",
            "                                                                 \n",
            " dense_3 (Dense)             (None, 512)               1049088   \n",
            "                                                                 \n",
            " dense_4 (Dense)             (None, 1)                 513       \n",
            "                                                                 \n",
            "=================================================================\n",
            "Total params: 24637313 (93.98 MB)\n",
            "Trainable params: 1049601 (4.00 MB)\n",
            "Non-trainable params: 23587712 (89.98 MB)\n",
            "_________________________________________________________________\n"
          ]
        }
      ]
    },
    {
      "cell_type": "code",
      "source": [
        "from keras.optimizers import Adam\n",
        "resnet_model.compile(optimizer=Adam(learning_rate=0.001),loss='binary_crossentropy',metrics=['accuracy'])"
      ],
      "metadata": {
        "id": "ZX2NqBvv8qL8"
      },
      "execution_count": 17,
      "outputs": []
    },
    {
      "cell_type": "code",
      "source": [
        "history = resnet_model.fit(train_data, epochs=3, validation_data=validation_data)"
      ],
      "metadata": {
        "colab": {
          "base_uri": "https://localhost:8080/"
        },
        "id": "VQ0GRNBj8zpt",
        "outputId": "ddc27dd1-7bd1-4d7f-cc35-48d47956aa59"
      },
      "execution_count": 18,
      "outputs": [
        {
          "output_type": "stream",
          "name": "stdout",
          "text": [
            "Epoch 1/3\n",
            "30/30 [==============================] - 306s 10s/step - loss: 2.2022 - accuracy: 0.5448 - val_loss: 0.7481 - val_accuracy: 0.5508\n",
            "Epoch 2/3\n",
            "30/30 [==============================] - 301s 10s/step - loss: 0.5098 - accuracy: 0.7450 - val_loss: 0.5269 - val_accuracy: 0.7585\n",
            "Epoch 3/3\n",
            "30/30 [==============================] - 306s 10s/step - loss: 0.3396 - accuracy: 0.8862 - val_loss: 0.4643 - val_accuracy: 0.8093\n"
          ]
        }
      ]
    },
    {
      "cell_type": "code",
      "source": [
        "import matplotlib.pyplot as plt\n",
        "\n",
        "plt.plot(history.history['accuracy'],color='red',label='train')\n",
        "plt.plot(history.history['val_accuracy'],color='blue',label='validation')\n",
        "plt.legend()\n",
        "plt.show()"
      ],
      "metadata": {
        "colab": {
          "base_uri": "https://localhost:8080/",
          "height": 432
        },
        "id": "hxQmyn8h84c2",
        "outputId": "2017e631-279b-4f0c-e231-26ccacdf5684"
      },
      "execution_count": 19,
      "outputs": [
        {
          "output_type": "display_data",
          "data": {
            "text/plain": [
              "<Figure size 640x480 with 1 Axes>"
            ],
            "image/png": "[encoded data removed]"
          },
          "metadata": {}
        }
      ]
    },
    {
      "cell_type": "code",
      "source": [
        "plt.plot(history.history['loss'],color='red',label='train')\n",
        "plt.plot(history.history['val_loss'],color='blue',label='validation')\n",
        "plt.legend()\n",
        "plt.show()"
      ],
      "metadata": {
        "colab": {
          "base_uri": "https://localhost:8080/",
          "height": 430
        },
        "id": "RTWnpp_6Af1k",
        "outputId": "935aae42-870b-4ea6-89df-a547bd3b434f"
      },
      "execution_count": 20,
      "outputs": [
        {
          "output_type": "display_data",
          "data": {
            "text/plain": [
              "<Figure size 640x480 with 1 Axes>"
            ],
            "image/png": "[encoded data removed]"
          },
          "metadata": {}
        }
      ]
    },
    {
      "cell_type": "code",
      "source": [
        "test_datagen = ImageDataGenerator(rescale=1./255)\n",
        "test_data = test_datagen.flow_from_directory(\n",
        "    test_dir,\n",
        "    target_size=(256,256),\n",
        "    batch_size=32,\n",
        "    class_mode='binary'\n",
        ")"
      ],
      "metadata": {
        "colab": {
          "base_uri": "https://localhost:8080/"
        },
        "id": "Is07DBqsAkOH",
        "outputId": "c286968e-34b8-4f99-acc3-9a3debcb5f51"
      },
      "execution_count": 21,
      "outputs": [
        {
          "output_type": "stream",
          "name": "stdout",
          "text": [
            "Found 1115 images belonging to 2 classes.\n"
          ]
        }
      ]
    },
    {
      "cell_type": "code",
      "source": [
        "predictions = resnet_model.predict(test_data)\n",
        "print(predictions)"
      ],
      "metadata": {
        "colab": {
          "base_uri": "https://localhost:8080/"
        },
        "id": "yMDwFPbVAqOE",
        "outputId": "48b188f8-1f06-4a48-8f91-e66b0820e1f9"
      },
      "execution_count": 22,
      "outputs": [
        {
          "output_type": "stream",
          "name": "stdout",
          "text": [
            "35/35 [==============================] - 277s 8s/step\n",
            "[[0.01997177]\n",
            " [0.19507393]\n",
            " [0.33584118]\n",
            " ...\n",
            " [0.9950412 ]\n",
            " [0.06941243]\n",
            " [0.0699048 ]]\n"
          ]
        }
      ]
    },
    {
      "cell_type": "code",
      "source": [
        "len(predictions)"
      ],
      "metadata": {
        "colab": {
          "base_uri": "https://localhost:8080/"
        },
        "id": "0UKJQ-pSAwLY",
        "outputId": "98b2ae21-7f97-40d7-aee3-74f303e23b51"
      },
      "execution_count": 23,
      "outputs": [
        {
          "output_type": "execute_result",
          "data": {
            "text/plain": [
              "1115"
            ]
          },
          "metadata": {},
          "execution_count": 23
        }
      ]
    },
    {
      "cell_type": "code",
      "source": [
        "from sklearn.metrics import confusion_matrix, classification_report\n",
        "\n",
        "\n",
        "true_labels = test_data.classes\n",
        "predicted_labels = (predictions > 0.5).astype(int)\n",
        "\n",
        "\n",
        "cm = confusion_matrix(true_labels, predicted_labels)\n",
        "\n",
        "\n",
        "print(\"Confusion Matrix:\")\n",
        "print(cm)\n",
        "\n",
        "\n",
        "print(\"Classification Report:\")\n",
        "print(classification_report(true_labels, predicted_labels))"
      ],
      "metadata": {
        "colab": {
          "base_uri": "https://localhost:8080/"
        },
        "id": "i5d-KfNSB6nI",
        "outputId": "4dcfe6ef-e3f6-4cfd-bb8a-1df95500d10b"
      },
      "execution_count": 24,
      "outputs": [
        {
          "output_type": "stream",
          "name": "stdout",
          "text": [
            "Confusion Matrix:\n",
            "[[323 228]\n",
            " [314 250]]\n",
            "Classification Report:\n",
            "              precision    recall  f1-score   support\n",
            "\n",
            "           0       0.51      0.59      0.54       551\n",
            "           1       0.52      0.44      0.48       564\n",
            "\n",
            "    accuracy                           0.51      1115\n",
            "   macro avg       0.52      0.51      0.51      1115\n",
            "weighted avg       0.52      0.51      0.51      1115\n",
            "\n"
          ]
        }
      ]
    },
    {
      "cell_type": "code",
      "source": [],
      "metadata": {
        "id": "gJDiAG-FCKFO"
      },
      "execution_count": null,
      "outputs": []
    }
  ]
}